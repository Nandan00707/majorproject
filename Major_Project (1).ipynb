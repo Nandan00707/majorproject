{
  "nbformat": 4,
  "nbformat_minor": 0,
  "metadata": {
    "colab": {
      "provenance": []
    },
    "kernelspec": {
      "name": "python3",
      "display_name": "Python 3"
    },
    "language_info": {
      "name": "python"
    }
  },
  "cells": [
    {
      "cell_type": "code",
      "execution_count": null,
      "metadata": {
        "id": "uS8WCbN-HUHr"
      },
      "outputs": [],
      "source": [
        "import numpy as np\n",
        "import pandas as pd"
      ]
    },
    {
      "cell_type": "code",
      "source": [
        "df=pd.read_csv(\"mail_data.csv\")"
      ],
      "metadata": {
        "id": "dXR6M5vsJGTO"
      },
      "execution_count": null,
      "outputs": []
    },
    {
      "cell_type": "code",
      "source": [
        "df.head()"
      ],
      "metadata": {
        "colab": {
          "base_uri": "https://localhost:8080/",
          "height": 206
        },
        "id": "BmQFVNyNDOVR",
        "outputId": "483bb398-986c-41a1-a279-c2ded031971f"
      },
      "execution_count": null,
      "outputs": [
        {
          "output_type": "execute_result",
          "data": {
            "text/plain": [
              "  Category                                            Message\n",
              "0      ham  Go until jurong point, crazy.. Available only ...\n",
              "1      ham                      Ok lar... Joking wif u oni...\n",
              "2     spam  Free entry in 2 a wkly comp to win FA Cup fina...\n",
              "3      ham  U dun say so early hor... U c already then say...\n",
              "4      ham  Nah I don't think he goes to usf, he lives aro..."
            ],
            "text/html": [
              "\n",
              "  <div id=\"df-621ab8a8-8d30-4231-b5c5-eddd82c7443b\">\n",
              "    <div class=\"colab-df-container\">\n",
              "      <div>\n",
              "<style scoped>\n",
              "    .dataframe tbody tr th:only-of-type {\n",
              "        vertical-align: middle;\n",
              "    }\n",
              "\n",
              "    .dataframe tbody tr th {\n",
              "        vertical-align: top;\n",
              "    }\n",
              "\n",
              "    .dataframe thead th {\n",
              "        text-align: right;\n",
              "    }\n",
              "</style>\n",
              "<table border=\"1\" class=\"dataframe\">\n",
              "  <thead>\n",
              "    <tr style=\"text-align: right;\">\n",
              "      <th></th>\n",
              "      <th>Category</th>\n",
              "      <th>Message</th>\n",
              "    </tr>\n",
              "  </thead>\n",
              "  <tbody>\n",
              "    <tr>\n",
              "      <th>0</th>\n",
              "      <td>ham</td>\n",
              "      <td>Go until jurong point, crazy.. Available only ...</td>\n",
              "    </tr>\n",
              "    <tr>\n",
              "      <th>1</th>\n",
              "      <td>ham</td>\n",
              "      <td>Ok lar... Joking wif u oni...</td>\n",
              "    </tr>\n",
              "    <tr>\n",
              "      <th>2</th>\n",
              "      <td>spam</td>\n",
              "      <td>Free entry in 2 a wkly comp to win FA Cup fina...</td>\n",
              "    </tr>\n",
              "    <tr>\n",
              "      <th>3</th>\n",
              "      <td>ham</td>\n",
              "      <td>U dun say so early hor... U c already then say...</td>\n",
              "    </tr>\n",
              "    <tr>\n",
              "      <th>4</th>\n",
              "      <td>ham</td>\n",
              "      <td>Nah I don't think he goes to usf, he lives aro...</td>\n",
              "    </tr>\n",
              "  </tbody>\n",
              "</table>\n",
              "</div>\n",
              "      <button class=\"colab-df-convert\" onclick=\"convertToInteractive('df-621ab8a8-8d30-4231-b5c5-eddd82c7443b')\"\n",
              "              title=\"Convert this dataframe to an interactive table.\"\n",
              "              style=\"display:none;\">\n",
              "        \n",
              "  <svg xmlns=\"http://www.w3.org/2000/svg\" height=\"24px\"viewBox=\"0 0 24 24\"\n",
              "       width=\"24px\">\n",
              "    <path d=\"M0 0h24v24H0V0z\" fill=\"none\"/>\n",
              "    <path d=\"M18.56 5.44l.94 2.06.94-2.06 2.06-.94-2.06-.94-.94-2.06-.94 2.06-2.06.94zm-11 1L8.5 8.5l.94-2.06 2.06-.94-2.06-.94L8.5 2.5l-.94 2.06-2.06.94zm10 10l.94 2.06.94-2.06 2.06-.94-2.06-.94-.94-2.06-.94 2.06-2.06.94z\"/><path d=\"M17.41 7.96l-1.37-1.37c-.4-.4-.92-.59-1.43-.59-.52 0-1.04.2-1.43.59L10.3 9.45l-7.72 7.72c-.78.78-.78 2.05 0 2.83L4 21.41c.39.39.9.59 1.41.59.51 0 1.02-.2 1.41-.59l7.78-7.78 2.81-2.81c.8-.78.8-2.07 0-2.86zM5.41 20L4 18.59l7.72-7.72 1.47 1.35L5.41 20z\"/>\n",
              "  </svg>\n",
              "      </button>\n",
              "      \n",
              "  <style>\n",
              "    .colab-df-container {\n",
              "      display:flex;\n",
              "      flex-wrap:wrap;\n",
              "      gap: 12px;\n",
              "    }\n",
              "\n",
              "    .colab-df-convert {\n",
              "      background-color: #E8F0FE;\n",
              "      border: none;\n",
              "      border-radius: 50%;\n",
              "      cursor: pointer;\n",
              "      display: none;\n",
              "      fill: #1967D2;\n",
              "      height: 32px;\n",
              "      padding: 0 0 0 0;\n",
              "      width: 32px;\n",
              "    }\n",
              "\n",
              "    .colab-df-convert:hover {\n",
              "      background-color: #E2EBFA;\n",
              "      box-shadow: 0px 1px 2px rgba(60, 64, 67, 0.3), 0px 1px 3px 1px rgba(60, 64, 67, 0.15);\n",
              "      fill: #174EA6;\n",
              "    }\n",
              "\n",
              "    [theme=dark] .colab-df-convert {\n",
              "      background-color: #3B4455;\n",
              "      fill: #D2E3FC;\n",
              "    }\n",
              "\n",
              "    [theme=dark] .colab-df-convert:hover {\n",
              "      background-color: #434B5C;\n",
              "      box-shadow: 0px 1px 3px 1px rgba(0, 0, 0, 0.15);\n",
              "      filter: drop-shadow(0px 1px 2px rgba(0, 0, 0, 0.3));\n",
              "      fill: #FFFFFF;\n",
              "    }\n",
              "  </style>\n",
              "\n",
              "      <script>\n",
              "        const buttonEl =\n",
              "          document.querySelector('#df-621ab8a8-8d30-4231-b5c5-eddd82c7443b button.colab-df-convert');\n",
              "        buttonEl.style.display =\n",
              "          google.colab.kernel.accessAllowed ? 'block' : 'none';\n",
              "\n",
              "        async function convertToInteractive(key) {\n",
              "          const element = document.querySelector('#df-621ab8a8-8d30-4231-b5c5-eddd82c7443b');\n",
              "          const dataTable =\n",
              "            await google.colab.kernel.invokeFunction('convertToInteractive',\n",
              "                                                     [key], {});\n",
              "          if (!dataTable) return;\n",
              "\n",
              "          const docLinkHtml = 'Like what you see? Visit the ' +\n",
              "            '<a target=\"_blank\" href=https://colab.research.google.com/notebooks/data_table.ipynb>data table notebook</a>'\n",
              "            + ' to learn more about interactive tables.';\n",
              "          element.innerHTML = '';\n",
              "          dataTable['output_type'] = 'display_data';\n",
              "          await google.colab.output.renderOutput(dataTable, element);\n",
              "          const docLink = document.createElement('div');\n",
              "          docLink.innerHTML = docLinkHtml;\n",
              "          element.appendChild(docLink);\n",
              "        }\n",
              "      </script>\n",
              "    </div>\n",
              "  </div>\n",
              "  "
            ]
          },
          "metadata": {},
          "execution_count": 3
        }
      ]
    },
    {
      "cell_type": "code",
      "source": [
        "df.shape"
      ],
      "metadata": {
        "colab": {
          "base_uri": "https://localhost:8080/"
        },
        "id": "Dgah9BTnJgfc",
        "outputId": "ca0ee7e6-6308-4d5b-e47f-2d637d927902"
      },
      "execution_count": null,
      "outputs": [
        {
          "output_type": "execute_result",
          "data": {
            "text/plain": [
              "(5572, 2)"
            ]
          },
          "metadata": {},
          "execution_count": 4
        }
      ]
    },
    {
      "cell_type": "markdown",
      "source": [
        "## DATA CLEANING"
      ],
      "metadata": {
        "id": "CW4pbyTVDDOG"
      }
    },
    {
      "cell_type": "code",
      "source": [
        "df.info()"
      ],
      "metadata": {
        "colab": {
          "base_uri": "https://localhost:8080/"
        },
        "id": "mZQnuUdaDeVy",
        "outputId": "bf574b98-a6fa-4d99-fd05-345fabc2f030"
      },
      "execution_count": null,
      "outputs": [
        {
          "output_type": "stream",
          "name": "stdout",
          "text": [
            "<class 'pandas.core.frame.DataFrame'>\n",
            "RangeIndex: 5572 entries, 0 to 5571\n",
            "Data columns (total 2 columns):\n",
            " #   Column    Non-Null Count  Dtype \n",
            "---  ------    --------------  ----- \n",
            " 0   Category  5572 non-null   object\n",
            " 1   Message   5572 non-null   object\n",
            "dtypes: object(2)\n",
            "memory usage: 87.2+ KB\n"
          ]
        }
      ]
    },
    {
      "cell_type": "code",
      "source": [
        "#renaming the columns\n",
        "df.rename(columns={\"Category\":\"Target\",\"Message\":\"Mails\"},inplace=True)"
      ],
      "metadata": {
        "id": "dfyWG4FVDx66"
      },
      "execution_count": null,
      "outputs": []
    },
    {
      "cell_type": "code",
      "source": [
        "df.head()"
      ],
      "metadata": {
        "colab": {
          "base_uri": "https://localhost:8080/",
          "height": 206
        },
        "id": "8LxizMELFvAN",
        "outputId": "1f1234d9-3a6c-4a6d-b4db-750b94b518a8"
      },
      "execution_count": null,
      "outputs": [
        {
          "output_type": "execute_result",
          "data": {
            "text/plain": [
              "  Target                                              Mails\n",
              "0    ham  Go until jurong point, crazy.. Available only ...\n",
              "1    ham                      Ok lar... Joking wif u oni...\n",
              "2   spam  Free entry in 2 a wkly comp to win FA Cup fina...\n",
              "3    ham  U dun say so early hor... U c already then say...\n",
              "4    ham  Nah I don't think he goes to usf, he lives aro..."
            ],
            "text/html": [
              "\n",
              "  <div id=\"df-40adc10d-719f-4781-9c98-f2a7ec94b50b\">\n",
              "    <div class=\"colab-df-container\">\n",
              "      <div>\n",
              "<style scoped>\n",
              "    .dataframe tbody tr th:only-of-type {\n",
              "        vertical-align: middle;\n",
              "    }\n",
              "\n",
              "    .dataframe tbody tr th {\n",
              "        vertical-align: top;\n",
              "    }\n",
              "\n",
              "    .dataframe thead th {\n",
              "        text-align: right;\n",
              "    }\n",
              "</style>\n",
              "<table border=\"1\" class=\"dataframe\">\n",
              "  <thead>\n",
              "    <tr style=\"text-align: right;\">\n",
              "      <th></th>\n",
              "      <th>Target</th>\n",
              "      <th>Mails</th>\n",
              "    </tr>\n",
              "  </thead>\n",
              "  <tbody>\n",
              "    <tr>\n",
              "      <th>0</th>\n",
              "      <td>ham</td>\n",
              "      <td>Go until jurong point, crazy.. Available only ...</td>\n",
              "    </tr>\n",
              "    <tr>\n",
              "      <th>1</th>\n",
              "      <td>ham</td>\n",
              "      <td>Ok lar... Joking wif u oni...</td>\n",
              "    </tr>\n",
              "    <tr>\n",
              "      <th>2</th>\n",
              "      <td>spam</td>\n",
              "      <td>Free entry in 2 a wkly comp to win FA Cup fina...</td>\n",
              "    </tr>\n",
              "    <tr>\n",
              "      <th>3</th>\n",
              "      <td>ham</td>\n",
              "      <td>U dun say so early hor... U c already then say...</td>\n",
              "    </tr>\n",
              "    <tr>\n",
              "      <th>4</th>\n",
              "      <td>ham</td>\n",
              "      <td>Nah I don't think he goes to usf, he lives aro...</td>\n",
              "    </tr>\n",
              "  </tbody>\n",
              "</table>\n",
              "</div>\n",
              "      <button class=\"colab-df-convert\" onclick=\"convertToInteractive('df-40adc10d-719f-4781-9c98-f2a7ec94b50b')\"\n",
              "              title=\"Convert this dataframe to an interactive table.\"\n",
              "              style=\"display:none;\">\n",
              "        \n",
              "  <svg xmlns=\"http://www.w3.org/2000/svg\" height=\"24px\"viewBox=\"0 0 24 24\"\n",
              "       width=\"24px\">\n",
              "    <path d=\"M0 0h24v24H0V0z\" fill=\"none\"/>\n",
              "    <path d=\"M18.56 5.44l.94 2.06.94-2.06 2.06-.94-2.06-.94-.94-2.06-.94 2.06-2.06.94zm-11 1L8.5 8.5l.94-2.06 2.06-.94-2.06-.94L8.5 2.5l-.94 2.06-2.06.94zm10 10l.94 2.06.94-2.06 2.06-.94-2.06-.94-.94-2.06-.94 2.06-2.06.94z\"/><path d=\"M17.41 7.96l-1.37-1.37c-.4-.4-.92-.59-1.43-.59-.52 0-1.04.2-1.43.59L10.3 9.45l-7.72 7.72c-.78.78-.78 2.05 0 2.83L4 21.41c.39.39.9.59 1.41.59.51 0 1.02-.2 1.41-.59l7.78-7.78 2.81-2.81c.8-.78.8-2.07 0-2.86zM5.41 20L4 18.59l7.72-7.72 1.47 1.35L5.41 20z\"/>\n",
              "  </svg>\n",
              "      </button>\n",
              "      \n",
              "  <style>\n",
              "    .colab-df-container {\n",
              "      display:flex;\n",
              "      flex-wrap:wrap;\n",
              "      gap: 12px;\n",
              "    }\n",
              "\n",
              "    .colab-df-convert {\n",
              "      background-color: #E8F0FE;\n",
              "      border: none;\n",
              "      border-radius: 50%;\n",
              "      cursor: pointer;\n",
              "      display: none;\n",
              "      fill: #1967D2;\n",
              "      height: 32px;\n",
              "      padding: 0 0 0 0;\n",
              "      width: 32px;\n",
              "    }\n",
              "\n",
              "    .colab-df-convert:hover {\n",
              "      background-color: #E2EBFA;\n",
              "      box-shadow: 0px 1px 2px rgba(60, 64, 67, 0.3), 0px 1px 3px 1px rgba(60, 64, 67, 0.15);\n",
              "      fill: #174EA6;\n",
              "    }\n",
              "\n",
              "    [theme=dark] .colab-df-convert {\n",
              "      background-color: #3B4455;\n",
              "      fill: #D2E3FC;\n",
              "    }\n",
              "\n",
              "    [theme=dark] .colab-df-convert:hover {\n",
              "      background-color: #434B5C;\n",
              "      box-shadow: 0px 1px 3px 1px rgba(0, 0, 0, 0.15);\n",
              "      filter: drop-shadow(0px 1px 2px rgba(0, 0, 0, 0.3));\n",
              "      fill: #FFFFFF;\n",
              "    }\n",
              "  </style>\n",
              "\n",
              "      <script>\n",
              "        const buttonEl =\n",
              "          document.querySelector('#df-40adc10d-719f-4781-9c98-f2a7ec94b50b button.colab-df-convert');\n",
              "        buttonEl.style.display =\n",
              "          google.colab.kernel.accessAllowed ? 'block' : 'none';\n",
              "\n",
              "        async function convertToInteractive(key) {\n",
              "          const element = document.querySelector('#df-40adc10d-719f-4781-9c98-f2a7ec94b50b');\n",
              "          const dataTable =\n",
              "            await google.colab.kernel.invokeFunction('convertToInteractive',\n",
              "                                                     [key], {});\n",
              "          if (!dataTable) return;\n",
              "\n",
              "          const docLinkHtml = 'Like what you see? Visit the ' +\n",
              "            '<a target=\"_blank\" href=https://colab.research.google.com/notebooks/data_table.ipynb>data table notebook</a>'\n",
              "            + ' to learn more about interactive tables.';\n",
              "          element.innerHTML = '';\n",
              "          dataTable['output_type'] = 'display_data';\n",
              "          await google.colab.output.renderOutput(dataTable, element);\n",
              "          const docLink = document.createElement('div');\n",
              "          docLink.innerHTML = docLinkHtml;\n",
              "          element.appendChild(docLink);\n",
              "        }\n",
              "      </script>\n",
              "    </div>\n",
              "  </div>\n",
              "  "
            ]
          },
          "metadata": {},
          "execution_count": 7
        }
      ]
    },
    {
      "cell_type": "code",
      "source": [
        "#label encoding the target column\n",
        "from sklearn.preprocessing import LabelEncoder\n",
        "encoder=LabelEncoder()\n",
        "df[\"Target\"]=encoder.fit_transform(df[\"Target\"])"
      ],
      "metadata": {
        "id": "cvgyloj8F6QP"
      },
      "execution_count": null,
      "outputs": []
    },
    {
      "cell_type": "code",
      "source": [
        "df.head()"
      ],
      "metadata": {
        "colab": {
          "base_uri": "https://localhost:8080/",
          "height": 206
        },
        "id": "i2UNifepGu2k",
        "outputId": "5d1f4a3a-7d5a-43ed-de6a-3ad5f574090b"
      },
      "execution_count": null,
      "outputs": [
        {
          "output_type": "execute_result",
          "data": {
            "text/plain": [
              "   Target                                              Mails\n",
              "0       0  Go until jurong point, crazy.. Available only ...\n",
              "1       0                      Ok lar... Joking wif u oni...\n",
              "2       1  Free entry in 2 a wkly comp to win FA Cup fina...\n",
              "3       0  U dun say so early hor... U c already then say...\n",
              "4       0  Nah I don't think he goes to usf, he lives aro..."
            ],
            "text/html": [
              "\n",
              "  <div id=\"df-109720ee-5bb7-4925-bf80-83803dbb0916\">\n",
              "    <div class=\"colab-df-container\">\n",
              "      <div>\n",
              "<style scoped>\n",
              "    .dataframe tbody tr th:only-of-type {\n",
              "        vertical-align: middle;\n",
              "    }\n",
              "\n",
              "    .dataframe tbody tr th {\n",
              "        vertical-align: top;\n",
              "    }\n",
              "\n",
              "    .dataframe thead th {\n",
              "        text-align: right;\n",
              "    }\n",
              "</style>\n",
              "<table border=\"1\" class=\"dataframe\">\n",
              "  <thead>\n",
              "    <tr style=\"text-align: right;\">\n",
              "      <th></th>\n",
              "      <th>Target</th>\n",
              "      <th>Mails</th>\n",
              "    </tr>\n",
              "  </thead>\n",
              "  <tbody>\n",
              "    <tr>\n",
              "      <th>0</th>\n",
              "      <td>0</td>\n",
              "      <td>Go until jurong point, crazy.. Available only ...</td>\n",
              "    </tr>\n",
              "    <tr>\n",
              "      <th>1</th>\n",
              "      <td>0</td>\n",
              "      <td>Ok lar... Joking wif u oni...</td>\n",
              "    </tr>\n",
              "    <tr>\n",
              "      <th>2</th>\n",
              "      <td>1</td>\n",
              "      <td>Free entry in 2 a wkly comp to win FA Cup fina...</td>\n",
              "    </tr>\n",
              "    <tr>\n",
              "      <th>3</th>\n",
              "      <td>0</td>\n",
              "      <td>U dun say so early hor... U c already then say...</td>\n",
              "    </tr>\n",
              "    <tr>\n",
              "      <th>4</th>\n",
              "      <td>0</td>\n",
              "      <td>Nah I don't think he goes to usf, he lives aro...</td>\n",
              "    </tr>\n",
              "  </tbody>\n",
              "</table>\n",
              "</div>\n",
              "      <button class=\"colab-df-convert\" onclick=\"convertToInteractive('df-109720ee-5bb7-4925-bf80-83803dbb0916')\"\n",
              "              title=\"Convert this dataframe to an interactive table.\"\n",
              "              style=\"display:none;\">\n",
              "        \n",
              "  <svg xmlns=\"http://www.w3.org/2000/svg\" height=\"24px\"viewBox=\"0 0 24 24\"\n",
              "       width=\"24px\">\n",
              "    <path d=\"M0 0h24v24H0V0z\" fill=\"none\"/>\n",
              "    <path d=\"M18.56 5.44l.94 2.06.94-2.06 2.06-.94-2.06-.94-.94-2.06-.94 2.06-2.06.94zm-11 1L8.5 8.5l.94-2.06 2.06-.94-2.06-.94L8.5 2.5l-.94 2.06-2.06.94zm10 10l.94 2.06.94-2.06 2.06-.94-2.06-.94-.94-2.06-.94 2.06-2.06.94z\"/><path d=\"M17.41 7.96l-1.37-1.37c-.4-.4-.92-.59-1.43-.59-.52 0-1.04.2-1.43.59L10.3 9.45l-7.72 7.72c-.78.78-.78 2.05 0 2.83L4 21.41c.39.39.9.59 1.41.59.51 0 1.02-.2 1.41-.59l7.78-7.78 2.81-2.81c.8-.78.8-2.07 0-2.86zM5.41 20L4 18.59l7.72-7.72 1.47 1.35L5.41 20z\"/>\n",
              "  </svg>\n",
              "      </button>\n",
              "      \n",
              "  <style>\n",
              "    .colab-df-container {\n",
              "      display:flex;\n",
              "      flex-wrap:wrap;\n",
              "      gap: 12px;\n",
              "    }\n",
              "\n",
              "    .colab-df-convert {\n",
              "      background-color: #E8F0FE;\n",
              "      border: none;\n",
              "      border-radius: 50%;\n",
              "      cursor: pointer;\n",
              "      display: none;\n",
              "      fill: #1967D2;\n",
              "      height: 32px;\n",
              "      padding: 0 0 0 0;\n",
              "      width: 32px;\n",
              "    }\n",
              "\n",
              "    .colab-df-convert:hover {\n",
              "      background-color: #E2EBFA;\n",
              "      box-shadow: 0px 1px 2px rgba(60, 64, 67, 0.3), 0px 1px 3px 1px rgba(60, 64, 67, 0.15);\n",
              "      fill: #174EA6;\n",
              "    }\n",
              "\n",
              "    [theme=dark] .colab-df-convert {\n",
              "      background-color: #3B4455;\n",
              "      fill: #D2E3FC;\n",
              "    }\n",
              "\n",
              "    [theme=dark] .colab-df-convert:hover {\n",
              "      background-color: #434B5C;\n",
              "      box-shadow: 0px 1px 3px 1px rgba(0, 0, 0, 0.15);\n",
              "      filter: drop-shadow(0px 1px 2px rgba(0, 0, 0, 0.3));\n",
              "      fill: #FFFFFF;\n",
              "    }\n",
              "  </style>\n",
              "\n",
              "      <script>\n",
              "        const buttonEl =\n",
              "          document.querySelector('#df-109720ee-5bb7-4925-bf80-83803dbb0916 button.colab-df-convert');\n",
              "        buttonEl.style.display =\n",
              "          google.colab.kernel.accessAllowed ? 'block' : 'none';\n",
              "\n",
              "        async function convertToInteractive(key) {\n",
              "          const element = document.querySelector('#df-109720ee-5bb7-4925-bf80-83803dbb0916');\n",
              "          const dataTable =\n",
              "            await google.colab.kernel.invokeFunction('convertToInteractive',\n",
              "                                                     [key], {});\n",
              "          if (!dataTable) return;\n",
              "\n",
              "          const docLinkHtml = 'Like what you see? Visit the ' +\n",
              "            '<a target=\"_blank\" href=https://colab.research.google.com/notebooks/data_table.ipynb>data table notebook</a>'\n",
              "            + ' to learn more about interactive tables.';\n",
              "          element.innerHTML = '';\n",
              "          dataTable['output_type'] = 'display_data';\n",
              "          await google.colab.output.renderOutput(dataTable, element);\n",
              "          const docLink = document.createElement('div');\n",
              "          docLink.innerHTML = docLinkHtml;\n",
              "          element.appendChild(docLink);\n",
              "        }\n",
              "      </script>\n",
              "    </div>\n",
              "  </div>\n",
              "  "
            ]
          },
          "metadata": {},
          "execution_count": 9
        }
      ]
    },
    {
      "cell_type": "code",
      "source": [
        "#check for missing values\n",
        "df.isnull().sum()"
      ],
      "metadata": {
        "colab": {
          "base_uri": "https://localhost:8080/"
        },
        "id": "WXtRoU3gHHd-",
        "outputId": "efb2f61c-5639-4ab7-bf20-c26562e7867b"
      },
      "execution_count": null,
      "outputs": [
        {
          "output_type": "execute_result",
          "data": {
            "text/plain": [
              "Target    0\n",
              "Mails     0\n",
              "dtype: int64"
            ]
          },
          "metadata": {},
          "execution_count": 10
        }
      ]
    },
    {
      "cell_type": "code",
      "source": [
        "#check for duplicate values\n",
        "df.duplicated().sum()"
      ],
      "metadata": {
        "colab": {
          "base_uri": "https://localhost:8080/"
        },
        "id": "Fkz82tuFHXt_",
        "outputId": "43e63331-ae05-4c07-b0f1-48f222172172"
      },
      "execution_count": null,
      "outputs": [
        {
          "output_type": "execute_result",
          "data": {
            "text/plain": [
              "415"
            ]
          },
          "metadata": {},
          "execution_count": 11
        }
      ]
    },
    {
      "cell_type": "code",
      "source": [
        "#removing duplicate values\n",
        "df=df.drop_duplicates()"
      ],
      "metadata": {
        "id": "tK-jReflJaU0"
      },
      "execution_count": null,
      "outputs": []
    },
    {
      "cell_type": "code",
      "source": [
        "df.duplicated().sum()"
      ],
      "metadata": {
        "colab": {
          "base_uri": "https://localhost:8080/"
        },
        "id": "lF9D1MgaJ5Te",
        "outputId": "60f8910b-a65b-49c6-e3da-b4ab609f34a6"
      },
      "execution_count": null,
      "outputs": [
        {
          "output_type": "execute_result",
          "data": {
            "text/plain": [
              "0"
            ]
          },
          "metadata": {},
          "execution_count": 13
        }
      ]
    },
    {
      "cell_type": "code",
      "source": [
        "df.shape"
      ],
      "metadata": {
        "colab": {
          "base_uri": "https://localhost:8080/"
        },
        "id": "fy4Q8puBKAhM",
        "outputId": "c9500de6-8bec-4a34-f244-7bebddf6ec40"
      },
      "execution_count": null,
      "outputs": [
        {
          "output_type": "execute_result",
          "data": {
            "text/plain": [
              "(5157, 2)"
            ]
          },
          "metadata": {},
          "execution_count": 14
        }
      ]
    },
    {
      "cell_type": "markdown",
      "source": [
        "# EDA"
      ],
      "metadata": {
        "id": "rhqVQOFPKYLL"
      }
    },
    {
      "cell_type": "code",
      "source": [
        "import matplotlib.pyplot as plt\n",
        "import seaborn as sns"
      ],
      "metadata": {
        "id": "W2fT5yfmKpKX"
      },
      "execution_count": null,
      "outputs": []
    },
    {
      "cell_type": "code",
      "source": [
        "df.head()"
      ],
      "metadata": {
        "colab": {
          "base_uri": "https://localhost:8080/",
          "height": 206
        },
        "id": "3W659Nl1K3mD",
        "outputId": "9624f0f7-46b6-4262-87d2-ac4a75afaca9"
      },
      "execution_count": null,
      "outputs": [
        {
          "output_type": "execute_result",
          "data": {
            "text/plain": [
              "   Target                                              Mails\n",
              "0       0  Go until jurong point, crazy.. Available only ...\n",
              "1       0                      Ok lar... Joking wif u oni...\n",
              "2       1  Free entry in 2 a wkly comp to win FA Cup fina...\n",
              "3       0  U dun say so early hor... U c already then say...\n",
              "4       0  Nah I don't think he goes to usf, he lives aro..."
            ],
            "text/html": [
              "\n",
              "  <div id=\"df-a3be1ff1-a39b-4395-a424-a1411cae6d1a\">\n",
              "    <div class=\"colab-df-container\">\n",
              "      <div>\n",
              "<style scoped>\n",
              "    .dataframe tbody tr th:only-of-type {\n",
              "        vertical-align: middle;\n",
              "    }\n",
              "\n",
              "    .dataframe tbody tr th {\n",
              "        vertical-align: top;\n",
              "    }\n",
              "\n",
              "    .dataframe thead th {\n",
              "        text-align: right;\n",
              "    }\n",
              "</style>\n",
              "<table border=\"1\" class=\"dataframe\">\n",
              "  <thead>\n",
              "    <tr style=\"text-align: right;\">\n",
              "      <th></th>\n",
              "      <th>Target</th>\n",
              "      <th>Mails</th>\n",
              "    </tr>\n",
              "  </thead>\n",
              "  <tbody>\n",
              "    <tr>\n",
              "      <th>0</th>\n",
              "      <td>0</td>\n",
              "      <td>Go until jurong point, crazy.. Available only ...</td>\n",
              "    </tr>\n",
              "    <tr>\n",
              "      <th>1</th>\n",
              "      <td>0</td>\n",
              "      <td>Ok lar... Joking wif u oni...</td>\n",
              "    </tr>\n",
              "    <tr>\n",
              "      <th>2</th>\n",
              "      <td>1</td>\n",
              "      <td>Free entry in 2 a wkly comp to win FA Cup fina...</td>\n",
              "    </tr>\n",
              "    <tr>\n",
              "      <th>3</th>\n",
              "      <td>0</td>\n",
              "      <td>U dun say so early hor... U c already then say...</td>\n",
              "    </tr>\n",
              "    <tr>\n",
              "      <th>4</th>\n",
              "      <td>0</td>\n",
              "      <td>Nah I don't think he goes to usf, he lives aro...</td>\n",
              "    </tr>\n",
              "  </tbody>\n",
              "</table>\n",
              "</div>\n",
              "      <button class=\"colab-df-convert\" onclick=\"convertToInteractive('df-a3be1ff1-a39b-4395-a424-a1411cae6d1a')\"\n",
              "              title=\"Convert this dataframe to an interactive table.\"\n",
              "              style=\"display:none;\">\n",
              "        \n",
              "  <svg xmlns=\"http://www.w3.org/2000/svg\" height=\"24px\"viewBox=\"0 0 24 24\"\n",
              "       width=\"24px\">\n",
              "    <path d=\"M0 0h24v24H0V0z\" fill=\"none\"/>\n",
              "    <path d=\"M18.56 5.44l.94 2.06.94-2.06 2.06-.94-2.06-.94-.94-2.06-.94 2.06-2.06.94zm-11 1L8.5 8.5l.94-2.06 2.06-.94-2.06-.94L8.5 2.5l-.94 2.06-2.06.94zm10 10l.94 2.06.94-2.06 2.06-.94-2.06-.94-.94-2.06-.94 2.06-2.06.94z\"/><path d=\"M17.41 7.96l-1.37-1.37c-.4-.4-.92-.59-1.43-.59-.52 0-1.04.2-1.43.59L10.3 9.45l-7.72 7.72c-.78.78-.78 2.05 0 2.83L4 21.41c.39.39.9.59 1.41.59.51 0 1.02-.2 1.41-.59l7.78-7.78 2.81-2.81c.8-.78.8-2.07 0-2.86zM5.41 20L4 18.59l7.72-7.72 1.47 1.35L5.41 20z\"/>\n",
              "  </svg>\n",
              "      </button>\n",
              "      \n",
              "  <style>\n",
              "    .colab-df-container {\n",
              "      display:flex;\n",
              "      flex-wrap:wrap;\n",
              "      gap: 12px;\n",
              "    }\n",
              "\n",
              "    .colab-df-convert {\n",
              "      background-color: #E8F0FE;\n",
              "      border: none;\n",
              "      border-radius: 50%;\n",
              "      cursor: pointer;\n",
              "      display: none;\n",
              "      fill: #1967D2;\n",
              "      height: 32px;\n",
              "      padding: 0 0 0 0;\n",
              "      width: 32px;\n",
              "    }\n",
              "\n",
              "    .colab-df-convert:hover {\n",
              "      background-color: #E2EBFA;\n",
              "      box-shadow: 0px 1px 2px rgba(60, 64, 67, 0.3), 0px 1px 3px 1px rgba(60, 64, 67, 0.15);\n",
              "      fill: #174EA6;\n",
              "    }\n",
              "\n",
              "    [theme=dark] .colab-df-convert {\n",
              "      background-color: #3B4455;\n",
              "      fill: #D2E3FC;\n",
              "    }\n",
              "\n",
              "    [theme=dark] .colab-df-convert:hover {\n",
              "      background-color: #434B5C;\n",
              "      box-shadow: 0px 1px 3px 1px rgba(0, 0, 0, 0.15);\n",
              "      filter: drop-shadow(0px 1px 2px rgba(0, 0, 0, 0.3));\n",
              "      fill: #FFFFFF;\n",
              "    }\n",
              "  </style>\n",
              "\n",
              "      <script>\n",
              "        const buttonEl =\n",
              "          document.querySelector('#df-a3be1ff1-a39b-4395-a424-a1411cae6d1a button.colab-df-convert');\n",
              "        buttonEl.style.display =\n",
              "          google.colab.kernel.accessAllowed ? 'block' : 'none';\n",
              "\n",
              "        async function convertToInteractive(key) {\n",
              "          const element = document.querySelector('#df-a3be1ff1-a39b-4395-a424-a1411cae6d1a');\n",
              "          const dataTable =\n",
              "            await google.colab.kernel.invokeFunction('convertToInteractive',\n",
              "                                                     [key], {});\n",
              "          if (!dataTable) return;\n",
              "\n",
              "          const docLinkHtml = 'Like what you see? Visit the ' +\n",
              "            '<a target=\"_blank\" href=https://colab.research.google.com/notebooks/data_table.ipynb>data table notebook</a>'\n",
              "            + ' to learn more about interactive tables.';\n",
              "          element.innerHTML = '';\n",
              "          dataTable['output_type'] = 'display_data';\n",
              "          await google.colab.output.renderOutput(dataTable, element);\n",
              "          const docLink = document.createElement('div');\n",
              "          docLink.innerHTML = docLinkHtml;\n",
              "          element.appendChild(docLink);\n",
              "        }\n",
              "      </script>\n",
              "    </div>\n",
              "  </div>\n",
              "  "
            ]
          },
          "metadata": {},
          "execution_count": 16
        }
      ]
    },
    {
      "cell_type": "code",
      "source": [
        "df[\"Target\"].value_counts()"
      ],
      "metadata": {
        "colab": {
          "base_uri": "https://localhost:8080/"
        },
        "id": "t8z7-dWLK76g",
        "outputId": "1a905e41-d8c0-479e-cc11-991a8cfb5898"
      },
      "execution_count": null,
      "outputs": [
        {
          "output_type": "execute_result",
          "data": {
            "text/plain": [
              "0    4516\n",
              "1     641\n",
              "Name: Target, dtype: int64"
            ]
          },
          "metadata": {},
          "execution_count": 17
        }
      ]
    },
    {
      "cell_type": "code",
      "source": [
        "plt.pie(df[\"Target\"].value_counts(),labels=[\"ham\",\"spam\"])\n",
        "plt.show()"
      ],
      "metadata": {
        "colab": {
          "base_uri": "https://localhost:8080/",
          "height": 248
        },
        "id": "MA5eJjvrLO5y",
        "outputId": "27366207-fd3f-49e3-e070-ef42bb22fbff"
      },
      "execution_count": null,
      "outputs": [
        {
          "output_type": "display_data",
          "data": {
            "text/plain": [
              "<Figure size 432x288 with 1 Axes>"
            ],
            "image/png": "[encoded data removed]"
          },
          "metadata": {}
        }
      ]
    },
    {
      "cell_type": "code",
      "source": [
        "sns.histplot(df[\"Target\"])\n",
        "df[\"Target\"].value_counts()"
      ],
      "metadata": {
        "colab": {
          "base_uri": "https://localhost:8080/",
          "height": 331
        },
        "id": "MrhGtUeqMASI",
        "outputId": "7acba88e-629d-4030-b781-bd3ac3c47268"
      },
      "execution_count": null,
      "outputs": [
        {
          "output_type": "execute_result",
          "data": {
            "text/plain": [
              "0    4516\n",
              "1     641\n",
              "Name: Target, dtype: int64"
            ]
          },
          "metadata": {},
          "execution_count": 19
        },
        {
          "output_type": "display_data",
          "data": {
            "text/plain": [
              "<Figure size 432x288 with 1 Axes>"
            ],
            "image/png": "[encoded data removed]"
          },
          "metadata": {
            "needs_background": "light"
          }
        }
      ]
    },
    {
      "cell_type": "code",
      "source": [
        "sns.countplot(df[\"Target\"])"
      ],
      "metadata": {
        "colab": {
          "base_uri": "https://localhost:8080/",
          "height": 351
        },
        "id": "QCev8fXKNJM7",
        "outputId": "4a49de27-7dac-4a98-fe36-ad5d8c60bd67"
      },
      "execution_count": null,
      "outputs": [
        {
          "output_type": "stream",
          "name": "stderr",
          "text": [
            "/usr/local/lib/python3.8/dist-packages/seaborn/_decorators.py:36: FutureWarning: Pass the following variable as a keyword arg: x. From version 0.12, the only valid positional argument will be `data`, and passing other arguments without an explicit keyword will result in an error or misinterpretation.\n",
            "  warnings.warn(\n"
          ]
        },
        {
          "output_type": "execute_result",
          "data": {
            "text/plain": [
              "<matplotlib.axes._subplots.AxesSubplot at 0x7f1ffbb99f70>"
            ]
          },
          "metadata": {},
          "execution_count": 20
        },
        {
          "output_type": "display_data",
          "data": {
            "text/plain": [
              "<Figure size 432x288 with 1 Axes>"
            ],
            "image/png": "[encoded data removed]"
          },
          "metadata": {
            "needs_background": "light"
          }
        }
      ]
    },
    {
      "cell_type": "code",
      "source": [
        "#DATA IS IMBALANCED\n"
      ],
      "metadata": {
        "id": "zAGvGUfxNUK8"
      },
      "execution_count": null,
      "outputs": []
    },
    {
      "cell_type": "markdown",
      "source": [
        "# DATA PREPROCESSING"
      ],
      "metadata": {
        "id": "zilMsTTMQCSl"
      }
    },
    {
      "cell_type": "code",
      "source": [
        "#splitting the data as X and Y\n",
        "X=df[\"Mails\"]\n",
        "Y=df[\"Target\"]\n"
      ],
      "metadata": {
        "id": "oSzmV0bjOH-B"
      },
      "execution_count": null,
      "outputs": []
    },
    {
      "cell_type": "code",
      "source": [
        "print(X)"
      ],
      "metadata": {
        "colab": {
          "base_uri": "https://localhost:8080/"
        },
        "id": "KZY_BcySPXa3",
        "outputId": "4984f454-1183-43d8-a67d-8715bb273785"
      },
      "execution_count": null,
      "outputs": [
        {
          "output_type": "stream",
          "name": "stdout",
          "text": [
            "0       Go until jurong point, crazy.. Available only ...\n",
            "1                           Ok lar... Joking wif u oni...\n",
            "2       Free entry in 2 a wkly comp to win FA Cup fina...\n",
            "3       U dun say so early hor... U c already then say...\n",
            "4       Nah I don't think he goes to usf, he lives aro...\n",
            "                              ...                        \n",
            "5567    This is the 2nd time we have tried 2 contact u...\n",
            "5568                 Will ü b going to esplanade fr home?\n",
            "5569    Pity, * was in mood for that. So...any other s...\n",
            "5570    The guy did some bitching but I acted like i'd...\n",
            "5571                           Rofl. Its true to its name\n",
            "Name: Mails, Length: 5157, dtype: object\n"
          ]
        }
      ]
    },
    {
      "cell_type": "code",
      "source": [
        "print(Y)"
      ],
      "metadata": {
        "colab": {
          "base_uri": "https://localhost:8080/"
        },
        "id": "5qL6SofKPbRj",
        "outputId": "1b99316a-964e-4c0e-ee4c-24ad0378ea9d"
      },
      "execution_count": null,
      "outputs": [
        {
          "output_type": "stream",
          "name": "stdout",
          "text": [
            "0       0\n",
            "1       0\n",
            "2       1\n",
            "3       0\n",
            "4       0\n",
            "       ..\n",
            "5567    1\n",
            "5568    0\n",
            "5569    0\n",
            "5570    0\n",
            "5571    0\n",
            "Name: Target, Length: 5157, dtype: int64\n"
          ]
        }
      ]
    },
    {
      "cell_type": "code",
      "source": [
        "#splitting the data into training and test sample\n",
        "from sklearn.model_selection import train_test_split\n",
        "x_train,x_test,y_train,y_test=train_test_split(X,Y,test_size=0.2,random_state=3)"
      ],
      "metadata": {
        "id": "eH184UszPj_X"
      },
      "execution_count": null,
      "outputs": []
    },
    {
      "cell_type": "code",
      "source": [
        "print(X.shape)\n",
        "print(x_train.shape)\n",
        "print(x_test.shape)"
      ],
      "metadata": {
        "colab": {
          "base_uri": "https://localhost:8080/"
        },
        "id": "y0cviBRVRwc5",
        "outputId": "8276b1c9-922a-4c7c-83be-8cdf43b1082b"
      },
      "execution_count": null,
      "outputs": [
        {
          "output_type": "stream",
          "name": "stdout",
          "text": [
            "(5157,)\n",
            "(4125,)\n",
            "(1032,)\n"
          ]
        }
      ]
    },
    {
      "cell_type": "markdown",
      "source": [
        "# TF-IDF\n",
        "\n",
        "The purpose of tf-idf is highlight words which are frequent in a document but not across all documents"
      ],
      "metadata": {
        "id": "zZc4hADYIxC9"
      }
    },
    {
      "cell_type": "markdown",
      "source": [
        "![td-idf-graphic.png](data:image/png;base64,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)"
      ],
      "metadata": {
        "id": "-qYE3tFRIHwI"
      }
    },
    {
      "cell_type": "code",
      "source": [
        "#transforming the test data into feature vectors so that it can be used for model traing\n",
        "from sklearn.feature_extraction.text import TfidfVectorizer\n",
        "tfidf=TfidfVectorizer(min_df=1,stop_words=\"english\",lowercase=True)\n",
        "X_train = tfidf.fit_transform(x_train)   \n",
        "X_test = tfidf.transform(x_test)"
      ],
      "metadata": {
        "id": "pp4E-hH3TUXk"
      },
      "execution_count": null,
      "outputs": []
    },
    {
      "cell_type": "code",
      "source": [
        "tfidf.vocabulary_"
      ],
      "metadata": {
        "colab": {
          "base_uri": "https://localhost:8080/"
        },
        "id": "Bnt7R50JeZkg",
        "outputId": "a3f355f3-2210-4a0e-906d-02ded6a2a504"
      },
      "execution_count": null,
      "outputs": [
        {
          "output_type": "execute_result",
          "data": {
            "text/plain": [
              "{'dun': 2400,\n",
              " 'believe': 1247,\n",
              " 'thk': 6605,\n",
              " 'told': 6692,\n",
              " 'teach': 6492,\n",
              " 'ship': 5859,\n",
              " 'cars': 1592,\n",
              " 'send': 5786,\n",
              " 'logo': 4038,\n",
              " 'ur': 6925,\n",
              " 'lover': 4089,\n",
              " 'names': 4522,\n",
              " 'joined': 3695,\n",
              " 'heart': 3252,\n",
              " 'txt': 6828,\n",
              " 'love': 4084,\n",
              " 'name1': 4519,\n",
              " 'name2': 4520,\n",
              " 'mobno': 4393,\n",
              " 'adam': 798,\n",
              " 'eve': 2564,\n",
              " '07123456789': 25,\n",
              " '87077': 682,\n",
              " 'yahoo': 7355,\n",
              " 'pobox36504w45wq': 5064,\n",
              " 'txtno': 6835,\n",
              " 'ads': 820,\n",
              " '150p': 300,\n",
              " 'sir': 5948,\n",
              " 'need': 4560,\n",
              " 'velusamy': 6989,\n",
              " 'date': 2094,\n",
              " 'birth': 1293,\n",
              " 'company': 1839,\n",
              " 'bank': 1166,\n",
              " 'facilities': 2644,\n",
              " 'details': 2186,\n",
              " 'emailed': 2480,\n",
              " 'yifeng': 7383,\n",
              " 'oredi': 4796,\n",
              " 'fr': 2854,\n",
              " 'thank': 6561,\n",
              " 'meet': 4271,\n",
              " 'monday': 4412,\n",
              " 'gonna': 3061,\n",
              " 'finish': 2752,\n",
              " 'bath': 1194,\n",
              " 'good': 3063,\n",
              " 'fine': 2749,\n",
              " 'night': 4609,\n",
              " 'doing': 2310,\n",
              " 'langport': 3872,\n",
              " 'sorry': 6086,\n",
              " 'll': 4018,\n",
              " 'probably': 5220,\n",
              " 'bed': 1228,\n",
              " '9pm': 729,\n",
              " 'sucks': 6335,\n",
              " 'ill': 3468,\n",
              " 'xmas': 7340,\n",
              " 'go2sri': 3042,\n",
              " 'lanka': 3874,\n",
              " 'hello': 3268,\n",
              " 'handsome': 3194,\n",
              " 'finding': 2748,\n",
              " 'job': 3688,\n",
              " 'lazy': 3903,\n",
              " 'working': 7284,\n",
              " 'getting': 3006,\n",
              " 'net': 4579,\n",
              " 'mummy': 4480,\n",
              " 'boytoy': 1401,\n",
              " 'does': 2297,\n",
              " 'miss': 4351,\n",
              " 'weather': 7140,\n",
              " 'extra': 2631,\n",
              " 'warm': 7104,\n",
              " 'cold': 1807,\n",
              " 'pls': 5047,\n",
              " 'lots': 4074,\n",
              " 'vitamin': 7032,\n",
              " 'okey': 4741,\n",
              " 'dokey': 2313,\n",
              " 'swashbuckling': 6408,\n",
              " 'stuff': 6301,\n",
              " 'oh': 4733,\n",
              " 'did': 2211,\n",
              " 'library': 3952,\n",
              " 'nope': 4644,\n",
              " 'wif': 7205,\n",
              " 'sis': 5949,\n",
              " 'lor': 4064,\n",
              " 'aft': 843,\n",
              " 'bathing': 1196,\n",
              " 'dog': 2301,\n",
              " 'bathe': 1195,\n",
              " 'looks': 4057,\n",
              " 'like': 3970,\n",
              " 'going': 3050,\n",
              " 'rain': 5335,\n",
              " 'soon': 6079,\n",
              " 'drive': 2369,\n",
              " 'read': 5378,\n",
              " 'write': 7308,\n",
              " 'sweet': 6414,\n",
              " '4u': 520,\n",
              " 'carlos': 1585,\n",
              " 'gauge': 2964,\n",
              " 'patty': 4913,\n",
              " 'ask': 1043,\n",
              " 'macho': 4145,\n",
              " 'price': 5197,\n",
              " 'range': 5354,\n",
              " 'want': 7097,\n",
              " 'new': 4591,\n",
              " 'used': 6943,\n",
              " 'plus': 5050,\n",
              " 'interfued': 3567,\n",
              " 'blackberry': 1305,\n",
              " 'bold': 1346,\n",
              " 'lt': 4105,\n",
              " 'gt': 3138,\n",
              " 'bb': 1202,\n",
              " 'goodnight': 3068,\n",
              " 'sleep': 5977,\n",
              " 'da': 2063,\n",
              " 'care': 1575,\n",
              " 'pa': 4846,\n",
              " 'awww': 1122,\n",
              " 'dat': 2092,\n",
              " 'think': 6597,\n",
              " 'nice': 4602,\n",
              " 'time': 6643,\n",
              " 'tonight': 6708,\n",
              " 'later': 3886,\n",
              " 'cos': 1940,\n",
              " 'im': 3472,\n",
              " 'lonely': 4048,\n",
              " 'xxx': 7346,\n",
              " 'knows': 3821,\n",
              " 'lunch': 4113,\n",
              " 'menu': 4296,\n",
              " 'know': 3818,\n",
              " 'drink': 2364,\n",
              " 'takes': 6454,\n",
              " 'doesn': 2299,\n",
              " 'vomit': 7043,\n",
              " 'temp': 6523,\n",
              " 'drop': 2374,\n",
              " 'unmits': 6899,\n",
              " 'let': 3944,\n",
              " 'awesome': 1119,\n",
              " 'lemme': 3933,\n",
              " 'depends': 2168,\n",
              " 'individual': 3523,\n",
              " 'hair': 3176,\n",
              " 'dresser': 2363,\n",
              " 'say': 5710,\n",
              " 'pretty': 5192,\n",
              " 'parents': 4884,\n",
              " 'look': 4052,\n",
              " 'gong': 3060,\n",
              " 'kaypoh': 3760,\n",
              " 'dunno': 2402,\n",
              " 'wat': 7115,\n",
              " 'collecting': 1813,\n",
              " 'thanx4': 6568,\n",
              " 'today': 6685,\n",
              " 'cer': 1630,\n",
              " 'catch': 1603,\n",
              " 'ave': 1104,\n",
              " 'damn': 2072,\n",
              " 'make': 4174,\n",
              " 'just': 3730,\n",
              " 'wait': 7075,\n",
              " 'til': 6641,\n",
              " 'tomorrow': 6700,\n",
              " '1000': 250,\n",
              " 'winner': 7223,\n",
              " 'guaranteed': 3142,\n",
              " 'caller': 1538,\n",
              " 'prize': 5215,\n",
              " 'final': 2744,\n",
              " 'attempt': 1075,\n",
              " 'contact': 1900,\n",
              " 'claim': 1743,\n",
              " '09071517866': 231,\n",
              " '150ppmpobox10183bhamb64xe': 304,\n",
              " 'pick': 4995,\n",
              " 'car': 1571,\n",
              " 'problem': 5221,\n",
              " 'importantly': 3489,\n",
              " 'discuss': 2262,\n",
              " 'mum': 4478,\n",
              " 'hope': 3352,\n",
              " 'having': 3236,\n",
              " 'great': 3112,\n",
              " 'day': 2101,\n",
              " 'hoping': 3359,\n",
              " 'text': 6545,\n",
              " 'meets': 4275,\n",
              " 'life': 3958,\n",
              " 'abiola': 747,\n",
              " '500': 528,\n",
              " 'mobiles': 4390,\n",
              " '2004': 344,\n",
              " 'nokia': 4634,\n",
              " '89545': 701,\n",
              " 'collect': 1811,\n",
              " 'www': 7330,\n",
              " 'tc': 6488,\n",
              " 'biz': 1302,\n",
              " '2optout': 403,\n",
              " '087187262701': 132,\n",
              " '50gbp': 532,\n",
              " 'mtmsg18': 4466,\n",
              " 'txtauction': 6832,\n",
              " 'ok': 4738,\n",
              " 'prob': 5219,\n",
              " 'yup': 7413,\n",
              " 'noe': 4629,\n",
              " 'leh': 3931,\n",
              " 'common': 1834,\n",
              " 'hearin': 3250,\n",
              " 'different': 2224,\n",
              " 'smile': 6014,\n",
              " 'gud': 3144,\n",
              " 'evng': 2581,\n",
              " 'coming': 1832,\n",
              " 'specially': 6125,\n",
              " 'selected': 5772,\n",
              " 'receive': 5408,\n",
              " 'holiday': 3331,\n",
              " 'flights': 2784,\n",
              " 'speak': 6119,\n",
              " 'live': 4010,\n",
              " 'operator': 4775,\n",
              " '0871277810910p': 103,\n",
              " 'min': 4328,\n",
              " '18': 314,\n",
              " 'presnts': 5185,\n",
              " 'bcz': 1215,\n",
              " 'mis': 4346,\n",
              " 'jeevithathile': 3664,\n",
              " 'irulinae': 3602,\n",
              " 'neekunna': 4567,\n",
              " 'prakasamanu': 5152,\n",
              " 'sneham': 6037,\n",
              " 'prakasam': 5151,\n",
              " 'ennal': 2514,\n",
              " 'prabha': 5142,\n",
              " 'mns': 4382,\n",
              " 'got': 3080,\n",
              " 'dont': 2321,\n",
              " 'budget': 1476,\n",
              " 'saw': 5709,\n",
              " 'dollars': 2316,\n",
              " 'walked': 7085,\n",
              " 'moms': 4410,\n",
              " 'right': 5569,\n",
              " 'stagwood': 6194,\n",
              " 'pass': 4898,\n",
              " 'winterstone': 7226,\n",
              " 'left': 3926,\n",
              " 'victors': 7003,\n",
              " 'hill': 3297,\n",
              " 'address': 805,\n",
              " 'howz': 3385,\n",
              " 'pain': 4856,\n",
              " 'come': 1827,\n",
              " 'said': 5662,\n",
              " 'ystrday': 7405,\n",
              " 'ice': 3439,\n",
              " 'medicine': 4268,\n",
              " 'don': 2319,\n",
              " 'forget': 2831,\n",
              " 'owns': 4841,\n",
              " 'private': 5212,\n",
              " 'property': 5253,\n",
              " 'boy': 1396,\n",
              " 'passionate': 4902,\n",
              " 'kiss': 3804,\n",
              " 'realy': 5393,\n",
              " 'soz': 6105,\n",
              " 'imat': 3476,\n",
              " 'mums': 4481,\n",
              " '2nite': 402,\n",
              " '2moro': 392,\n",
              " 'ful': 2918,\n",
              " 'song': 6074,\n",
              " 'lyrics': 4128,\n",
              " 'ne': 4549,\n",
              " 'thing': 6595,\n",
              " 'interesting': 3566,\n",
              " 'birthday': 1295,\n",
              " 'wrking': 7312,\n",
              " 'nxt': 4693,\n",
              " 'started': 6212,\n",
              " 'uni': 6887,\n",
              " 'try': 6800,\n",
              " 'things': 6596,\n",
              " 'scared': 5718,\n",
              " 'mah': 4162,\n",
              " 'loud': 4080,\n",
              " 'baby': 1139,\n",
              " 'yo': 7387,\n",
              " 'tho': 6609,\n",
              " 'havent': 3233,\n",
              " 'topic': 6720,\n",
              " 'rite': 5582,\n",
              " 'id': 3444,\n",
              " 'password': 4904,\n",
              " 'free': 2866,\n",
              " 'agents': 853,\n",
              " 've': 6983,\n",
              " 'booked': 1356,\n",
              " 'year': 7366,\n",
              " 'boston': 1371,\n",
              " 'nyc': 4695,\n",
              " 'experiment': 2616,\n",
              " 'chase': 1661,\n",
              " 'run': 5638,\n",
              " 'crossing': 2002,\n",
              " 'street': 6274,\n",
              " 'training': 6749,\n",
              " '2003': 343,\n",
              " 'account': 776,\n",
              " 'statement': 6219,\n",
              " '07973788240': 42,\n",
              " 'shows': 5901,\n",
              " '800': 630,\n",
              " 'redeemed': 5433,\n",
              " 'points': 5077,\n",
              " '08715203649': 111,\n",
              " 'identifier': 3450,\n",
              " 'code': 1800,\n",
              " '40533': 473,\n",
              " 'expires': 2619,\n",
              " '31': 429,\n",
              " '10': 248,\n",
              " '04': 15,\n",
              " 'telling': 6516,\n",
              " 'tell': 6515,\n",
              " 'treat': 6770,\n",
              " 'hi': 3289,\n",
              " 'edison': 2440,\n",
              " 'rightly': 5571,\n",
              " 'fool': 2820,\n",
              " 'questions': 5313,\n",
              " 'wise': 7231,\n",
              " 'man': 4184,\n",
              " 'answer': 951,\n",
              " 'speechless': 6129,\n",
              " 'viva': 7033,\n",
              " 'gm': 3035,\n",
              " 'gn': 3037,\n",
              " 'ge': 2978,\n",
              " 'gnt': 3039,\n",
              " 'wa': 7064,\n",
              " 'efficient': 2455,\n",
              " 'gee': 2979,\n",
              " 'thanx': 6567,\n",
              " 'phone': 4981,\n",
              " 'wanna': 7095,\n",
              " 'chat': 1663,\n",
              " 'set': 5807,\n",
              " '09096102316': 237,\n",
              " 'cum': 2032,\n",
              " 'luv': 4118,\n",
              " 'jane': 3645,\n",
              " 'xx': 7344,\n",
              " 'calls': 1545,\n",
              " 'minmoremobsemspobox45po139wa': 4336,\n",
              " 'sister': 5950,\n",
              " 'law': 3898,\n",
              " 'month': 4417,\n",
              " 'saying': 5712,\n",
              " 'hey': 3285,\n",
              " 'bored': 1365,\n",
              " 'housewives': 3381,\n",
              " '0871750': 122,\n",
              " '77': 616,\n",
              " '11': 262,\n",
              " 'bt': 1467,\n",
              " 'national': 4536,\n",
              " 'rate': 5358,\n",
              " '10p': 259,\n",
              " 'landlines': 3869,\n",
              " 'crucify': 2005,\n",
              " 'earlier': 2415,\n",
              " 'hav': 3229,\n",
              " 'reached': 5374,\n",
              " 'unable': 6866,\n",
              " 'connect': 1887,\n",
              " 'aight': 864,\n",
              " 'close': 1769,\n",
              " 'credits': 1990,\n",
              " 'topped': 6722,\n",
              " 'http': 3393,\n",
              " 'bubbletext': 1471,\n",
              " 'com': 1821,\n",
              " 'renewal': 5487,\n",
              " 'pin': 5010,\n",
              " 'tgxxrz': 6557,\n",
              " 'yeah': 7365,\n",
              " 'forgot': 2836,\n",
              " 'shopping': 5877,\n",
              " 'aslamalaikkum': 1049,\n",
              " 'insha': 3549,\n",
              " 'allah': 899,\n",
              " 'tohar': 6688,\n",
              " 'beeen': 1232,\n",
              " 'muht': 4475,\n",
              " 'albi': 882,\n",
              " 'mufti': 4473,\n",
              " 'mahfuuz': 4165,\n",
              " 'meaning': 4257,\n",
              " 'lick': 3953,\n",
              " 'pussy': 5295,\n",
              " 'gam': 2946,\n",
              " 'gone': 3059,\n",
              " 'outstanding': 4829,\n",
              " 'innings': 3543,\n",
              " 'mom': 4407,\n",
              " 'setting': 5808,\n",
              " 'computer': 1859,\n",
              " 'filling': 2737,\n",
              " 'belly': 1252,\n",
              " 'goes': 3046,\n",
              " 'loverboy': 4090,\n",
              " 'sighs': 5921,\n",
              " 'bout': 1378,\n",
              " '30ish': 425,\n",
              " 'small': 6002,\n",
              " 'auction': 1083,\n",
              " 'punj': 5284,\n",
              " 'asking': 1047,\n",
              " 'tiwary': 6661,\n",
              " 'hhahhaahahah': 3288,\n",
              " 'rofl': 5594,\n",
              " 'wtf': 7322,\n",
              " 'nig': 4607,\n",
              " 'leonardo': 3939,\n",
              " 'room': 5603,\n",
              " 'help': 3270,\n",
              " 'swoop': 6426,\n",
              " 'picking': 4997,\n",
              " 'birds': 1290,\n",
              " 'meeting': 4273,\n",
              " 'germany': 2999,\n",
              " 'pence': 4939,\n",
              " 'minute': 4341,\n",
              " 'fixed': 2769,\n",
              " 'line': 3984,\n",
              " 'access': 765,\n",
              " 'number': 4681,\n",
              " '0844': 59,\n",
              " '861': 676,\n",
              " '85': 671,\n",
              " 'prepayment': 5177,\n",
              " 'direct': 2245,\n",
              " 'house': 3379,\n",
              " 'hand': 3188,\n",
              " 'poyyarikatur': 5136,\n",
              " 'kolathupalayam': 3826,\n",
              " 'unjalur': 6895,\n",
              " 'post': 5117,\n",
              " 'erode': 2540,\n",
              " 'dis': 2251,\n",
              " 'really': 5391,\n",
              " 'masters': 4223,\n",
              " 'dad': 2066,\n",
              " 'secret': 5755,\n",
              " 'admirer': 812,\n",
              " 'reveal': 5551,\n",
              " 'thinks': 6601,\n",
              " 'special': 6121,\n",
              " '09065174042': 212,\n",
              " 'opt': 4782,\n",
              " 'reply': 5500,\n",
              " 'stop': 6255,\n",
              " '50': 527,\n",
              " 'msg': 4453,\n",
              " 'recd': 5405,\n",
              " 'cust': 2043,\n",
              " '07821230901': 37,\n",
              " 'sure': 6387,\n",
              " 'sick': 5918,\n",
              " 'sign': 5923,\n",
              " 'track': 6743,\n",
              " 'record': 5422,\n",
              " 'reading': 5380,\n",
              " 'women': 7263,\n",
              " 'hospital': 3366,\n",
              " 'return': 5546,\n",
              " 'home': 3336,\n",
              " 'evening': 2566,\n",
              " 'jus': 3729,\n",
              " 'watching': 7119,\n",
              " 'tv': 6821,\n",
              " 'mobile': 4389,\n",
              " 'added': 801,\n",
              " 'list': 3999,\n",
              " 'fullonsms': 2920,\n",
              " 'place': 5020,\n",
              " 'sms': 6026,\n",
              " 'people': 4944,\n",
              " 'visit': 7027,\n",
              " 'outbid': 4818,\n",
              " 'simonwatson5120': 5934,\n",
              " 'shinco': 5856,\n",
              " 'dvd': 2407,\n",
              " 'plyr': 5051,\n",
              " 'bid': 1277,\n",
              " 'ac': 759,\n",
              " 'smsrewards': 6029,\n",
              " 'end': 2492,\n",
              " 'notifications': 4661,\n",
              " 'taste': 6473,\n",
              " 'fish': 2765,\n",
              " 'curry': 2040,\n",
              " 'page': 4852,\n",
              " 'eatin': 2430,\n",
              " 'surprised': 6394,\n",
              " 'guess': 3146,\n",
              " 'urgent': 6928,\n",
              " '2nd': 399,\n",
              " '900': 712,\n",
              " 'yesterday': 7379,\n",
              " 'awaiting': 1114,\n",
              " 'collection': 1814,\n",
              " '09061702893': 190,\n",
              " 'worried': 7290,\n",
              " 'wonderful': 7268,\n",
              " 'caring': 1583,\n",
              " 'person': 4959,\n",
              " 'best': 1264,\n",
              " 'god': 3045,\n",
              " 'aiyo': 874,\n",
              " 'poor': 5095,\n",
              " 'wan': 7093,\n",
              " 'eat': 2428,\n",
              " 'crave': 1979,\n",
              " 'arabian': 1004,\n",
              " 'steed': 6233,\n",
              " 'mmmmmm': 4379,\n",
              " 'yummy': 7408,\n",
              " 'yes': 7377,\n",
              " 'torture': 6729,\n",
              " 'england': 2506,\n",
              " 'giggle': 3015,\n",
              " 'possibly': 5116,\n",
              " 'person2die': 4960,\n",
              " 'nvq': 4691,\n",
              " 'izzit': 3628,\n",
              " 'raining': 5336,\n",
              " 'thinking': 6600,\n",
              " 'knock': 3816,\n",
              " '80082': 634,\n",
              " 'enter': 2516,\n",
              " 'weekly': 7156,\n",
              " 'draw': 2355,\n",
              " '250': 365,\n",
              " 'gift': 3013,\n",
              " 'voucher': 7049,\n",
              " 'store': 6264,\n",
              " 'yr': 7403,\n",
              " 'choice': 1723,\n",
              " 'cs': 2010,\n",
              " 'tkls': 6665,\n",
              " 'age16': 850,\n",
              " 'stoptxtstop': 6263,\n",
              " 'week': 7152,\n",
              " 'early': 2417,\n",
              " 'project': 5236,\n",
              " '33': 438,\n",
              " '65': 577,\n",
              " 'thats': 6572,\n",
              " 'bad': 1145,\n",
              " 'taj': 6450,\n",
              " 'mahal': 4163,\n",
              " 'symbol': 6430,\n",
              " 'lesser': 3941,\n",
              " 'known': 3820,\n",
              " 'facts': 2646,\n",
              " 'mumtaz': 4482,\n",
              " 'shahjahan': 5827,\n",
              " '4th': 516,\n",
              " 'wife': 7206,\n",
              " 'wifes': 7207,\n",
              " 'killed': 3792,\n",
              " 'husband': 3419,\n",
              " 'marry': 4212,\n",
              " 'died': 2217,\n",
              " 'th': 6558,\n",
              " 'delivery': 2154,\n",
              " 'married': 4211,\n",
              " 'question': 5311,\n",
              " 'arises': 1020,\n",
              " 'hell': 3266,\n",
              " 'hari': 3217,\n",
              " 'voicemail': 7041,\n",
              " '08719181503': 146,\n",
              " 'sat': 5696,\n",
              " 'bloody': 1328,\n",
              " 'bus': 1498,\n",
              " 'mo': 4385,\n",
              " 'wont': 7271,\n",
              " '30': 419,\n",
              " 'somethin': 6066,\n",
              " 'ortxt': 4805,\n",
              " 'jess': 3675,\n",
              " 'mate': 4228,\n",
              " 'catching': 1605,\n",
              " 'way': 7129,\n",
              " 'trouble': 6787,\n",
              " 'convincing': 1920,\n",
              " 'tel': 6510,\n",
              " 'twice': 6823,\n",
              " 'neglect': 4570,\n",
              " 'msgs': 4459,\n",
              " 'felt': 2711,\n",
              " 'conveying': 1917,\n",
              " 'reason': 5395,\n",
              " 'ese': 2547,\n",
              " 'happy': 3212,\n",
              " 'lol': 4042,\n",
              " 'won': 7264,\n",
              " 'feel': 2703,\n",
              " 'use': 6942,\n",
              " 'money': 4413,\n",
              " 'steak': 6229,\n",
              " 'dinner': 2240,\n",
              " 'dare': 2081,\n",
              " 'stupid': 6307,\n",
              " 'hear': 3248,\n",
              " 'talk': 6459,\n",
              " 'mon': 4411,\n",
              " 'thurs': 6627,\n",
              " 'srs': 6184,\n",
              " 'model': 4400,\n",
              " 'mail': 4167,\n",
              " 'ha': 3166,\n",
              " 'wouldn': 7303,\n",
              " 'didn': 2213,\n",
              " 'judgemental': 3717,\n",
              " 'save': 5705,\n",
              " 'fridays': 2883,\n",
              " 'pub': 5275,\n",
              " 'remains': 5470,\n",
              " 'bro': 1445,\n",
              " 'bros': 1451,\n",
              " 'juz': 3736,\n",
              " 'askin': 1046,\n",
              " 'card': 1572,\n",
              " '20': 340,\n",
              " 'salon': 5672,\n",
              " 'called': 1537,\n",
              " 'sense': 5791,\n",
              " 'tot': 6732,\n",
              " 'cut': 2050,\n",
              " 'fact': 2645,\n",
              " 'raise': 5337,\n",
              " 'kids': 3788,\n",
              " 'received': 5410,\n",
              " 'content': 1904,\n",
              " 'enjoy': 2508,\n",
              " 'seriously': 5801,\n",
              " 'exact': 2590,\n",
              " 'words': 7280,\n",
              " 'ready': 5381,\n",
              " 'inches': 3501,\n",
              " 'pleasure': 5043,\n",
              " 'actually': 796,\n",
              " 'decided': 2120,\n",
              " 'hungry': 3409,\n",
              " 'haven': 3232,\n",
              " 'nt': 4673,\n",
              " 'joking': 3700,\n",
              " 'accidentally': 769,\n",
              " 'brought': 1455,\n",
              " 'em': 2478,\n",
              " 'box': 1382,\n",
              " 'di': 2201,\n",
              " 'thought': 6612,\n",
              " 'misplaced': 4350,\n",
              " 'sending': 5788,\n",
              " 'texts': 6556,\n",
              " 'old': 4746,\n",
              " 'wondering': 7269,\n",
              " 'heard': 3249,\n",
              " 'mcat': 4252,\n",
              " 'atlanta': 1069,\n",
              " 'friends': 2887,\n",
              " 'joy': 3708,\n",
              " 'father': 2684,\n",
              " 'john': 3693,\n",
              " 'mandan': 4189,\n",
              " 'win': 7216,\n",
              " '100': 249,\n",
              " '2006': 346,\n",
              " 'fifa': 2726,\n",
              " 'world': 7287,\n",
              " 'cup': 2035,\n",
              " 'held': 3263,\n",
              " '87239': 687,\n",
              " 'service': 5804,\n",
              " 'play': 5033,\n",
              " 'posted': 5120,\n",
              " 'couple': 1957,\n",
              " 'pics': 4999,\n",
              " 'fb': 2695,\n",
              " 'snow': 6042,\n",
              " 'outside': 4827,\n",
              " 'waking': 7080,\n",
              " 'stay': 6222,\n",
              " 'sch': 5722,\n",
              " 'monthly': 4418,\n",
              " 'wap': 7102,\n",
              " 'mobsi': 4395,\n",
              " '391784': 449,\n",
              " 'pc': 4927,\n",
              " 'thursday': 6628,\n",
              " 'yay': 7363,\n",
              " 'cheers': 1682,\n",
              " 'alright': 906,\n",
              " 'hows': 3384,\n",
              " 'school': 5724,\n",
              " 'work': 7281,\n",
              " 'future': 2932,\n",
              " 'planned': 5028,\n",
              " 'result': 5540,\n",
              " 'present': 5182,\n",
              " 'short': 5880,\n",
              " 'cute': 2051,\n",
              " 'prove': 5260,\n",
              " 'noon': 4641,\n",
              " 'mall': 4182,\n",
              " 'keeps': 3765,\n",
              " 'queen': 5308,\n",
              " 'hmmm': 3315,\n",
              " 'ache': 780,\n",
              " 'desparately': 2180,\n",
              " 'lolnice': 4043,\n",
              " 'went': 7173,\n",
              " 'water': 7120,\n",
              " 'leaving': 3923,\n",
              " 'frens': 2878,\n",
              " 'lei': 3932,\n",
              " 'leave': 3921,\n",
              " 'minutes': 4342,\n",
              " 'amp': 923,\n",
              " 'mu': 4468,\n",
              " 'watch': 7116,\n",
              " 'men': 4289,\n",
              " 'haha': 3172,\n",
              " 'morning': 4426,\n",
              " 'weekend': 7154,\n",
              " 'able': 748,\n",
              " 'rest': 5533,\n",
              " 'available': 1101,\n",
              " 'mid': 4315,\n",
              " 'feb': 2698,\n",
              " 'quite': 5318,\n",
              " 'contacted': 1901,\n",
              " 'dating': 2097,\n",
              " 'land': 3865,\n",
              " '09050000878': 158,\n",
              " 'pobox45w2tg150p': 5066,\n",
              " 'deep': 2131,\n",
              " 'sigh': 5920,\n",
              " 'cafe': 1522,\n",
              " 'valued': 6971,\n",
              " 'network': 4585,\n",
              " 'customer': 2046,\n",
              " 'receivea': 5409,\n",
              " 'reward': 5557,\n",
              " '09061701461': 187,\n",
              " 'kl341': 3810,\n",
              " 'valid': 6968,\n",
              " '12': 273,\n",
              " 'hours': 3378,\n",
              " 'finished': 2754,\n",
              " 'class': 1751,\n",
              " 'daily': 2070,\n",
              " 'favour': 2693,\n",
              " '08715203694': 116,\n",
              " 'wednesday': 7149,\n",
              " '86888': 678,\n",
              " 'subscribe6gbp': 6321,\n",
              " 'mnth': 4383,\n",
              " '3hrs': 455,\n",
              " '16': 310,\n",
              " 'txtstop': 6838,\n",
              " 'gamb': 2947,\n",
              " 'funny': 2929,\n",
              " 'bluff': 1336,\n",
              " 'impossible': 3491,\n",
              " 'fuckin': 2911,\n",
              " 'didnt': 2214,\n",
              " 'pre': 5163,\n",
              " 'cancelled': 1559,\n",
              " 'needs': 4565,\n",
              " 'sacked': 5652,\n",
              " 'dear': 2112,\n",
              " 'rubber': 5629,\n",
              " 'onluy': 4759,\n",
              " 'matters': 4239,\n",
              " 'offcampus': 4717,\n",
              " 'afternoon': 844,\n",
              " 'starshine': 6210,\n",
              " 'fuck': 2909,\n",
              " 'sips': 5947,\n",
              " 'cappuccino': 1567,\n",
              " 'babe': 1136,\n",
              " 'teasing': 6502,\n",
              " 'anybody': 962,\n",
              " 'tactful': 6443,\n",
              " 'alex': 890,\n",
              " 'motivate': 4431,\n",
              " 'darkness': 2084,\n",
              " 'shining': 5857,\n",
              " 'light': 3966,\n",
              " 'waiting': 7078,\n",
              " 'friend': 2886,\n",
              " 'trust': 6797,\n",
              " 'bslvyl': 1464,\n",
              " 'thankyou': 6566,\n",
              " 'appreciate': 989,\n",
              " 'letter': 3946,\n",
              " 'lect': 3924,\n",
              " 'years': 7367,\n",
              " 'shower': 5895,\n",
              " 'plan': 5025,\n",
              " 'mm': 4375,\n",
              " 'entirely': 2523,\n",
              " 'understood': 6879,\n",
              " 'ho': 3321,\n",
              " 'tex': 6542,\n",
              " 'mecause': 4265,\n",
              " 'werebored': 7176,\n",
              " 'okden': 4740,\n",
              " 'hunny': 3411,\n",
              " 'uin': 6855,\n",
              " 'wk': 7245,\n",
              " 'sound': 6096,\n",
              " 'likeyour': 3974,\n",
              " 'havin': 3235,\n",
              " 'gr8fun': 3092,\n",
              " 'updat': 6912,\n",
              " 'countinlots': 1954,\n",
              " 'loveme': 4088,\n",
              " 'xxxxx': 7348,\n",
              " 'whatsup': 7187,\n",
              " 'better': 1268,\n",
              " 'late': 3883,\n",
              " 'swing': 6422,\n",
              " 'eh': 2461,\n",
              " 'laptop': 3876,\n",
              " 'stock': 6248,\n",
              " 'muz': 4498,\n",
              " 'ya': 7354,\n",
              " 'display': 2268,\n",
              " 'internal': 3568,\n",
              " 'subs': 6318,\n",
              " 'gotta': 3084,\n",
              " 'extract': 2632,\n",
              " 'networking': 4586,\n",
              " 'audrie': 1087,\n",
              " 'lousy': 4082,\n",
              " 'autocorrect': 1098,\n",
              " 'knw': 3822,\n",
              " 'frnds': 2895,\n",
              " 'classmates': 1754,\n",
              " 'balance': 1156,\n",
              " '600': 565,\n",
              " 'complete': 1848,\n",
              " 'landmark': 3870,\n",
              " 'big': 1279,\n",
              " 'bob': 1342,\n",
              " 'barry': 1182,\n",
              " 'ben': 1258,\n",
              " '83738': 666,\n",
              " 'luck': 4109,\n",
              " 'stitch': 6247,\n",
              " 'trouser': 6789,\n",
              " 'clearly': 1762,\n",
              " 'fault': 2688,\n",
              " 'change': 1644,\n",
              " 'jaykwon': 3655,\n",
              " 'thuglyfe': 6626,\n",
              " 'falconerf': 2658,\n",
              " 'update_now': 6914,\n",
              " '12mths': 285,\n",
              " 'half': 3181,\n",
              " 'orange': 4790,\n",
              " 'rental': 5490,\n",
              " '400mins': 468,\n",
              " 'mobileupd8': 4392,\n",
              " '08000839402': 47,\n",
              " 'call2optout': 1533,\n",
              " 'j5q': 3629,\n",
              " 'wn': 7254,\n",
              " 'hurt': 3416,\n",
              " 'prsn': 5266,\n",
              " 'fight': 2728,\n",
              " 'wit': 7237,\n",
              " 'dem': 2156,\n",
              " 'coz': 1966,\n",
              " 'somtimes': 6071,\n",
              " 'saves': 5707,\n",
              " 'relation': 5461,\n",
              " 'quiet': 5316,\n",
              " 'leaves': 3922,\n",
              " 'nothin': 4659,\n",
              " 'eveb': 2565,\n",
              " 'slow': 5996,\n",
              " 'awake': 1115,\n",
              " 'shuhui': 5910,\n",
              " 'bought': 1376,\n",
              " 'ron': 5602,\n",
              " 'swatch': 6410,\n",
              " 'smoothly': 6025,\n",
              " 'hoped': 3353,\n",
              " 'bother': 1373,\n",
              " 'bills': 1284,\n",
              " 'settle': 5810,\n",
              " 'cash': 1596,\n",
              " 'challenging': 1638,\n",
              " 'goldviking': 3055,\n",
              " '29': 374,\n",
              " 'inviting': 3581,\n",
              " '762': 615,\n",
              " 'frnd': 2894,\n",
              " '62468': 572,\n",
              " 'grins': 3122,\n",
              " 'thanks': 6562,\n",
              " 'mca': 4251,\n",
              " 'conform': 1881,\n",
              " 'disturb': 2271,\n",
              " 'avoiding': 1111,\n",
              " 'burden': 1490,\n",
              " 'advice': 827,\n",
              " 'ma': 4137,\n",
              " 'curious': 2037,\n",
              " 'cuz': 2057,\n",
              " 'asked': 1045,\n",
              " 'darren': 2088,\n",
              " 'considering': 1895,\n",
              " 'oga': 4732,\n",
              " 'messages': 4304,\n",
              " 'plans': 5030,\n",
              " 'ringtone': 5577,\n",
              " 'changed': 1645,\n",
              " '25': 364,\n",
              " 'club4mobiles': 1781,\n",
              " 'choose': 1724,\n",
              " 'club': 1779,\n",
              " '87070': 681,\n",
              " 'club4': 1780,\n",
              " 'po': 5055,\n",
              " 'box1146': 1383,\n",
              " 'mk45': 4373,\n",
              " '2wt': 415,\n",
              " 'erm': 2539,\n",
              " 'contract': 1911,\n",
              " 'ran': 5348,\n",
              " 'the4th': 6573,\n",
              " 'october': 4712,\n",
              " '3000': 421,\n",
              " 'award': 1116,\n",
              " '08712402050': 95,\n",
              " 'lines': 3988,\n",
              " 'cost': 1942,\n",
              " '10ppm': 260,\n",
              " 'apply': 987,\n",
              " 'ag': 847,\n",
              " 'promo': 5244,\n",
              " 'ee': 2449,\n",
              " 'na': 4510,\n",
              " 'poortiyagi': 5097,\n",
              " 'odalebeku': 4713,\n",
              " 'hanumanji': 3203,\n",
              " 'hanuman': 3202,\n",
              " 'bajarangabali': 1152,\n",
              " 'maruti': 4214,\n",
              " 'pavanaputra': 4916,\n",
              " 'sankatmochan': 5681,\n",
              " 'ramaduth': 5346,\n",
              " 'mahaveer': 4164,\n",
              " 'janarige': 3644,\n",
              " 'ivatte': 3622,\n",
              " 'kalisidare': 3745,\n",
              " 'saturday': 5702,\n",
              " 'olage': 4743,\n",
              " 'ondu': 4754,\n",
              " 'news': 4596,\n",
              " 'keluviri': 3767,\n",
              " 'maretare': 4202,\n",
              " 'inde': 3515,\n",
              " ...}"
            ]
          },
          "metadata": {},
          "execution_count": 28
        }
      ]
    },
    {
      "cell_type": "code",
      "source": [
        "print(X_train)"
      ],
      "metadata": {
        "colab": {
          "base_uri": "https://localhost:8080/"
        },
        "id": "WyhzK5g0VRSN",
        "outputId": "4bb84ec9-d137-4fac-8e93-4fd2ca2a6f14"
      },
      "execution_count": null,
      "outputs": [
        {
          "output_type": "stream",
          "name": "stdout",
          "text": [
            "  (0, 6692)\t0.48303813512243965\n",
            "  (0, 6605)\t0.4898673616987752\n",
            "  (0, 1247)\t0.5538832733861689\n",
            "  (0, 2400)\t0.4689535663823655\n",
            "  (1, 1592)\t0.5594126567616489\n",
            "  (1, 5859)\t0.5964494866231046\n",
            "  (1, 6492)\t0.5755914257195885\n",
            "  (2, 300)\t0.16113294658934302\n",
            "  (2, 820)\t0.24488128414489752\n",
            "  (2, 6835)\t0.24488128414489752\n",
            "  (2, 5064)\t0.22967525805125708\n",
            "  (2, 7355)\t0.21568440262445418\n",
            "  (2, 682)\t0.22967525805125708\n",
            "  (2, 25)\t0.24488128414489752\n",
            "  (2, 2564)\t0.19505111090227498\n",
            "  (2, 798)\t0.24488128414489752\n",
            "  (2, 4393)\t0.24488128414489752\n",
            "  (2, 4520)\t0.24488128414489752\n",
            "  (2, 4519)\t0.24488128414489752\n",
            "  (2, 4084)\t0.2644704778405301\n",
            "  (2, 6828)\t0.13848562282513652\n",
            "  (2, 3252)\t0.18176623831152225\n",
            "  (2, 3695)\t0.21568440262445418\n",
            "  (2, 4522)\t0.2363176943466334\n",
            "  (2, 4089)\t0.2196593047164816\n",
            "  :\t:\n",
            "  (4120, 1223)\t0.5846719438819551\n",
            "  (4120, 6456)\t0.4751891362657192\n",
            "  (4120, 3181)\t0.4285103741434733\n",
            "  (4120, 3921)\t0.39220487670240334\n",
            "  (4120, 2101)\t0.30807173962343376\n",
            "  (4121, 5968)\t0.4786671802830861\n",
            "  (4121, 6283)\t0.4786671802830861\n",
            "  (4121, 2234)\t0.4017927559446723\n",
            "  (4121, 7093)\t0.30479406961757016\n",
            "  (4121, 1827)\t0.4699620412025258\n",
            "  (4121, 4064)\t0.25798119556428833\n",
            "  (4122, 5830)\t0.46450686818513914\n",
            "  (4122, 4342)\t0.4905868510580283\n",
            "  (4122, 6119)\t0.4868051225603611\n",
            "  (4122, 3818)\t0.31447423988339285\n",
            "  (4122, 3138)\t0.3215825654206297\n",
            "  (4122, 4105)\t0.32290755595687465\n",
            "  (4123, 5720)\t0.571842199779247\n",
            "  (4123, 1595)\t0.4589070366947927\n",
            "  (4123, 1264)\t0.3822287755202981\n",
            "  (4123, 7365)\t0.3402075943627085\n",
            "  (4123, 5192)\t0.4478401345634717\n",
            "  (4124, 7316)\t0.7095407247401689\n",
            "  (4124, 4681)\t0.5199862107431475\n",
            "  (4124, 6597)\t0.47556944873717305\n"
          ]
        }
      ]
    },
    {
      "cell_type": "markdown",
      "source": [
        "# MODEL BUILDING AND TRAINING "
      ],
      "metadata": {
        "id": "ejtIYo0eWFw6"
      }
    },
    {
      "cell_type": "code",
      "source": [
        "from sklearn.linear_model import LogisticRegression\n",
        "#fitting the data to the model\n",
        "#logistic regression\n",
        "lr=LogisticRegression()\n",
        "lr.fit(X_train,y_train)\n",
        "\n",
        "#decision tree classifier\n",
        "from sklearn.tree import DecisionTreeClassifier\n",
        "dtc=DecisionTreeClassifier(criterion=\"entropy\")\n",
        "dtc.fit(X_train,y_train)\n",
        "\n",
        "#Random forest classifier\n",
        "from sklearn.ensemble import RandomForestClassifier\n",
        "rfc=RandomForestClassifier(n_estimators=50,criterion=\"entropy\")\n",
        "rfc.fit(X_train,y_train)\n",
        "\n",
        "#support vector machine\n",
        "from sklearn.svm import SVC\n",
        "supp=SVC(kernel=\"linear\")\n",
        "supp.fit(X_train,y_train)\n",
        "\n",
        "\n"
      ],
      "metadata": {
        "colab": {
          "base_uri": "https://localhost:8080/"
        },
        "id": "2KW-QXI7WP1-",
        "outputId": "adf497aa-99d3-42f3-9eba-adeb4fc329a3"
      },
      "execution_count": null,
      "outputs": [
        {
          "output_type": "execute_result",
          "data": {
            "text/plain": [
              "SVC(kernel='linear')"
            ]
          },
          "metadata": {},
          "execution_count": 30
        }
      ]
    },
    {
      "cell_type": "markdown",
      "source": [
        "# EVALUATION OF MODEL"
      ],
      "metadata": {
        "id": "SSFpaIsjmsjM"
      }
    },
    {
      "cell_type": "markdown",
      "source": [
        "## #Logitic regression"
      ],
      "metadata": {
        "id": "64NVgZ1X-zme"
      }
    },
    {
      "cell_type": "code",
      "source": [
        "\n",
        "#prediction of training data\n",
        "y_predict=lr.predict(X_train)\n",
        "\n",
        "#pedicted values\n",
        "print(y_predict)\n",
        "from sklearn.metrics import accuracy_score\n",
        "acctr=accuracy_score(y_train,y_predict)\n",
        "print(\"Accuracy on training data is:\",acctr)\n"
      ],
      "metadata": {
        "colab": {
          "base_uri": "https://localhost:8080/"
        },
        "id": "1Q_E33K5jjtI",
        "outputId": "25c8e3a6-3e75-4890-b155-6defe76ff244"
      },
      "execution_count": null,
      "outputs": [
        {
          "output_type": "stream",
          "name": "stdout",
          "text": [
            "[0 0 0 ... 0 0 0]\n",
            "Accuracy on training data is: 0.961939393939394\n"
          ]
        }
      ]
    },
    {
      "cell_type": "code",
      "source": [
        "#prediction on testing data\n",
        "Y_pred=lr.predict(X_test)\n",
        "\n",
        "#predicted values of test data\n",
        "print(Y_pred)\n",
        "accte=accuracy_score(y_test,Y_pred)\n",
        "print(\"Accuracy on testing data is:\",accte)"
      ],
      "metadata": {
        "colab": {
          "base_uri": "https://localhost:8080/"
        },
        "id": "k4--YZRwk-TS",
        "outputId": "bddbe9bb-51a2-4016-c6fc-1be9419f6feb"
      },
      "execution_count": null,
      "outputs": [
        {
          "output_type": "stream",
          "name": "stdout",
          "text": [
            "[0 0 0 ... 0 0 0]\n",
            "Accuracy on testing data is: 0.9544573643410853\n"
          ]
        }
      ]
    },
    {
      "cell_type": "code",
      "source": [
        "#confusion matrix and classification report\n",
        "from sklearn import metrics \n",
        "from sklearn.metrics import classification_report, confusion_matrix\n",
        "print(\"Accuracy is :\",accte)\n",
        "matrix = confusion_matrix(y_test, Y_pred)\n",
        "sns.heatmap(matrix, annot=True, fmt=\"d\")\n",
        "plt.title('Confusion Matrix')\n",
        "plt.xlabel('Predicted')\n",
        "plt.ylabel('True')\n",
        "print(classification_report(y_test, Y_pred))"
      ],
      "metadata": {
        "colab": {
          "base_uri": "https://localhost:8080/",
          "height": 469
        },
        "id": "KZd36cRjm1dl",
        "outputId": "4ffec5a6-1706-4dbe-c460-706c25f7e8f5"
      },
      "execution_count": null,
      "outputs": [
        {
          "output_type": "stream",
          "name": "stdout",
          "text": [
            "Accuracy is : 0.9544573643410853\n",
            "              precision    recall  f1-score   support\n",
            "\n",
            "           0       0.95      1.00      0.97       893\n",
            "           1       1.00      0.66      0.80       139\n",
            "\n",
            "    accuracy                           0.95      1032\n",
            "   macro avg       0.97      0.83      0.89      1032\n",
            "weighted avg       0.96      0.95      0.95      1032\n",
            "\n"
          ]
        },
        {
          "output_type": "display_data",
          "data": {
            "text/plain": [
              "<Figure size 432x288 with 2 Axes>"
            ],
            "image/png": "[encoded data removed]"
          },
          "metadata": {
            "needs_background": "light"
          }
        }
      ]
    },
    {
      "cell_type": "markdown",
      "source": [
        "## #Decision tree classifier"
      ],
      "metadata": {
        "id": "DiDrQJTl--ps"
      }
    },
    {
      "cell_type": "code",
      "source": [
        "#prediction on train data\n",
        "y_predict1=dtc.predict(X_train)\n",
        "\n",
        "\n",
        "#predicted values of train dataset\n",
        "print(y_predict1)\n",
        "Acct=accuracy_score(y_train,y_predict1)\n",
        "print(\"Accuracy on training data is:\",Acct)"
      ],
      "metadata": {
        "colab": {
          "base_uri": "https://localhost:8080/"
        },
        "id": "BXMlN8yns4Gn",
        "outputId": "f8f1b003-65a1-4438-906e-5e8d0d68bdb1"
      },
      "execution_count": null,
      "outputs": [
        {
          "output_type": "stream",
          "name": "stdout",
          "text": [
            "[0 0 1 ... 0 0 0]\n",
            "Accuracy on training data is: 1.0\n"
          ]
        }
      ]
    },
    {
      "cell_type": "code",
      "source": [
        "#prediction of test data\n",
        "Y_pred1=dtc.predict(X_test)\n",
        "print(Y_pred1)\n",
        "acc=accuracy_score(y_test,Y_pred1)\n",
        "print(\"Accuracy of test data is\",acc)\n"
      ],
      "metadata": {
        "colab": {
          "base_uri": "https://localhost:8080/"
        },
        "id": "9bTM4l8ntzMO",
        "outputId": "5d4a9363-f50a-43ca-f8b6-4a68db7fd8e2"
      },
      "execution_count": null,
      "outputs": [
        {
          "output_type": "stream",
          "name": "stdout",
          "text": [
            "[0 0 0 ... 0 0 0]\n",
            "Accuracy of test data is 0.9534883720930233\n"
          ]
        }
      ]
    },
    {
      "cell_type": "code",
      "source": [
        "#confusion matrix and classification report\n",
        "matrix1 = confusion_matrix(y_test, Y_pred1)\n",
        "acc=accuracy_score(y_test,Y_pred1)\n",
        "print(\"Acuuracy is \",acc)\n",
        "sns.heatmap(matrix1, annot=True, fmt=\"d\")\n",
        "plt.title('Confusion Matrix')\n",
        "plt.xlabel('Predicted')\n",
        "plt.ylabel('True')\n",
        "print(classification_report(y_test, Y_pred1))"
      ],
      "metadata": {
        "colab": {
          "base_uri": "https://localhost:8080/",
          "height": 469
        },
        "id": "Rs61IB4HuIgH",
        "outputId": "ddc1cbe5-7170-4ac6-c84a-b45af2de5538"
      },
      "execution_count": null,
      "outputs": [
        {
          "output_type": "stream",
          "name": "stdout",
          "text": [
            "Acuuracy is  0.9534883720930233\n",
            "              precision    recall  f1-score   support\n",
            "\n",
            "           0       0.96      0.98      0.97       893\n",
            "           1       0.88      0.76      0.81       139\n",
            "\n",
            "    accuracy                           0.95      1032\n",
            "   macro avg       0.92      0.87      0.89      1032\n",
            "weighted avg       0.95      0.95      0.95      1032\n",
            "\n"
          ]
        },
        {
          "output_type": "display_data",
          "data": {
            "text/plain": [
              "<Figure size 432x288 with 2 Axes>"
            ],
            "image/png": "[encoded data removed]"
          },
          "metadata": {
            "needs_background": "light"
          }
        }
      ]
    },
    {
      "cell_type": "markdown",
      "source": [
        "## #Random forest classifier"
      ],
      "metadata": {
        "id": "mjux9B26_Xl0"
      }
    },
    {
      "cell_type": "code",
      "source": [
        "#prediction of train data\n",
        "y_predictrfc=rfc.predict(X_train)\n",
        "print(y_predictrfc)\n",
        "accrfc=accuracy_score(y_train,y_predictrfc)\n",
        "print(\"Accuracy score of train data is:\",accrfc)"
      ],
      "metadata": {
        "colab": {
          "base_uri": "https://localhost:8080/"
        },
        "id": "CPjocsZII7hn",
        "outputId": "84266c1d-7dcd-4d0b-ab50-7f499e17ca29"
      },
      "execution_count": null,
      "outputs": [
        {
          "output_type": "stream",
          "name": "stdout",
          "text": [
            "[0 0 1 ... 0 0 0]\n",
            "Accuracy score of train data is: 1.0\n"
          ]
        }
      ]
    },
    {
      "cell_type": "code",
      "source": [
        "\n",
        "#prediction of test data\n",
        "Y_pred2=rfc.predict(X_test)\n",
        "print(Y_pred2)\n",
        "acc1=accuracy_score(y_test,Y_pred2)\n",
        "print(\"Accuracy score of test data is:\",acc1)\n"
      ],
      "metadata": {
        "colab": {
          "base_uri": "https://localhost:8080/"
        },
        "id": "WGYwcL9WyzUZ",
        "outputId": "627a2d3d-849a-4308-9311-b9a7560bee34"
      },
      "execution_count": null,
      "outputs": [
        {
          "output_type": "stream",
          "name": "stdout",
          "text": [
            "[0 0 0 ... 0 0 0]\n",
            "Accuracy score of test data is: 0.9728682170542635\n"
          ]
        }
      ]
    },
    {
      "cell_type": "code",
      "source": [
        "#confusion matrix and classification report\n",
        "matrix2 = confusion_matrix(y_test, Y_pred2)\n",
        "acc1=accuracy_score(y_test,Y_pred2)\n",
        "print(\"Acuuracy is \",acc1)\n",
        "sns.heatmap(matrix2, annot=True, fmt=\"d\")\n",
        "plt.title('Confusion Matrix')\n",
        "plt.xlabel('Predicted')\n",
        "plt.ylabel('True')\n",
        "print(classification_report(y_test, Y_pred2))"
      ],
      "metadata": {
        "colab": {
          "base_uri": "https://localhost:8080/",
          "height": 469
        },
        "id": "AfI7Nvld1HBD",
        "outputId": "e0a1eb61-04bd-4fc6-a091-2572c059d685"
      },
      "execution_count": null,
      "outputs": [
        {
          "output_type": "stream",
          "name": "stdout",
          "text": [
            "Acuuracy is  0.9728682170542635\n",
            "              precision    recall  f1-score   support\n",
            "\n",
            "           0       0.97      1.00      0.98       893\n",
            "           1       0.99      0.81      0.89       139\n",
            "\n",
            "    accuracy                           0.97      1032\n",
            "   macro avg       0.98      0.90      0.94      1032\n",
            "weighted avg       0.97      0.97      0.97      1032\n",
            "\n"
          ]
        },
        {
          "output_type": "display_data",
          "data": {
            "text/plain": [
              "<Figure size 432x288 with 2 Axes>"
            ],
            "image/png": "[encoded data removed]"
          },
          "metadata": {
            "needs_background": "light"
          }
        }
      ]
    },
    {
      "cell_type": "markdown",
      "source": [
        "## #Supportcector machine"
      ],
      "metadata": {
        "id": "-AyIuoRt_rrG"
      }
    },
    {
      "cell_type": "code",
      "source": [
        "#prediction of train data\n",
        "y_predictsvm=supp.predict(X_train)\n",
        "print(y_predictsvm)\n",
        "accsvm=accuracy_score(y_train,y_predictsvm)\n",
        "print(\"Accuracy score of train data is:\",accsvm)"
      ],
      "metadata": {
        "colab": {
          "base_uri": "https://localhost:8080/"
        },
        "id": "mfAYIJ47KJlQ",
        "outputId": "68bdcf45-375b-4504-fbe4-412dfeb57142"
      },
      "execution_count": null,
      "outputs": [
        {
          "output_type": "stream",
          "name": "stdout",
          "text": [
            "[0 0 1 ... 0 0 0]\n",
            "Accuracy score of train data is: 0.9966060606060606\n"
          ]
        }
      ]
    },
    {
      "cell_type": "code",
      "source": [
        "\n",
        "#prediction of test data\n",
        "Y_pred3=supp.predict(X_test)\n",
        "print(Y_pred3)\n",
        "acc2=accuracy_score(y_test,Y_pred3)\n",
        "print(\"Accuracy score of test data is:\",acc2)"
      ],
      "metadata": {
        "colab": {
          "base_uri": "https://localhost:8080/"
        },
        "id": "jeHMyzi_6cYQ",
        "outputId": "adc27e93-5ff2-45b6-b6dd-e1d6bb744685"
      },
      "execution_count": null,
      "outputs": [
        {
          "output_type": "stream",
          "name": "stdout",
          "text": [
            "[0 0 0 ... 0 0 0]\n",
            "Accuracy score of test data is: 0.9835271317829457\n"
          ]
        }
      ]
    },
    {
      "cell_type": "code",
      "source": [
        "#confusion matrix and classification report\n",
        "matrix3 = confusion_matrix(y_test, Y_pred3)\n",
        "acc2=accuracy_score(y_test,Y_pred3)\n",
        "print(\"Acuuracy is \",acc2)\n",
        "sns.heatmap(matrix3, annot=True, fmt=\"d\")\n",
        "plt.title('Confusion Matrix')\n",
        "plt.xlabel('Predicted')\n",
        "plt.ylabel('True')\n",
        "print(classification_report(y_test, Y_pred3))"
      ],
      "metadata": {
        "colab": {
          "base_uri": "https://localhost:8080/",
          "height": 469
        },
        "id": "0CNvVM0S68hB",
        "outputId": "37340c31-8c9f-4913-fb0c-c9520c849211"
      },
      "execution_count": null,
      "outputs": [
        {
          "output_type": "stream",
          "name": "stdout",
          "text": [
            "Acuuracy is  0.9835271317829457\n",
            "              precision    recall  f1-score   support\n",
            "\n",
            "           0       0.98      1.00      0.99       893\n",
            "           1       1.00      0.88      0.93       139\n",
            "\n",
            "    accuracy                           0.98      1032\n",
            "   macro avg       0.99      0.94      0.96      1032\n",
            "weighted avg       0.98      0.98      0.98      1032\n",
            "\n"
          ]
        },
        {
          "output_type": "display_data",
          "data": {
            "text/plain": [
              "<Figure size 432x288 with 2 Axes>"
            ],
            "image/png": "[encoded data removed]"
          },
          "metadata": {
            "needs_background": "light"
          }
        }
      ]
    },
    {
      "cell_type": "markdown",
      "source": [
        "# BUILDING A PREDICTIVE SYSTEM"
      ],
      "metadata": {
        "id": "Q_uPCbsDOoUq"
      }
    },
    {
      "cell_type": "code",
      "source": [
        "input_mail=[\"I've been searching for the right words to thank you for this breather. I promise i wont take your help for granted and will fulfil my promise. You have been wonderful and a blessing at all times\"]\n",
        "\n",
        "#covert the text to vectors\n",
        "input_data=tfidf.transform(input_mail)\n",
        "\n",
        "#making prediction\n",
        "Prediction=supp.predict(input_data)\n",
        "print(Prediction)\n",
        "\n",
        "if(Prediction==0):\n",
        "  print(\"It is ham mail\")\n",
        "\n",
        "else:\n",
        "  print(\"It is spam mail\")\n"
      ],
      "metadata": {
        "colab": {
          "base_uri": "https://localhost:8080/"
        },
        "id": "hLdZLb8iO1oI",
        "outputId": "d04ab461-fd8f-4bae-edf0-8b4bd1d5d5b4"
      },
      "execution_count": null,
      "outputs": [
        {
          "output_type": "stream",
          "name": "stdout",
          "text": [
            "[0]\n",
            "It is ham mail\n"
          ]
        }
      ]
    },
    {
      "cell_type": "code",
      "source": [],
      "metadata": {
        "id": "fBSXSSU1QJel"
      },
      "execution_count": null,
      "outputs": []
    }
  ]
}